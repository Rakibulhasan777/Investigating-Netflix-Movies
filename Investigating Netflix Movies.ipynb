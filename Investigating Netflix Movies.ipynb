{
 "cells": [
  {
   "cell_type": "code",
   "execution_count": 15,
   "id": "b46faede-2f29-481c-b081-f0c6a40936b4",
   "metadata": {},
   "outputs": [],
   "source": [
    "# Importing pandas and matplotlib\n",
    "import pandas as pd\n",
    "import matplotlib.pyplot as plt"
   ]
  },
  {
   "cell_type": "code",
   "execution_count": 16,
   "id": "edd850e4-f512-44fb-ba30-2e207e76f954",
   "metadata": {},
   "outputs": [],
   "source": [
    "# Read in the Netflix CSV as a DataFrame\n",
    "netflix_df = pd.read_csv(\"netflix_data.csv\")"
   ]
  },
  {
   "cell_type": "code",
   "execution_count": 17,
   "id": "6df4037c-09d4-4dfd-8bab-11827283891e",
   "metadata": {},
   "outputs": [],
   "source": [
    "# Subset the DataFrame for type \"Movie\"\n",
    "netflix_subset = netflix_df[netflix_df[\"type\"] == \"Movie\"]"
   ]
  },
  {
   "cell_type": "code",
   "execution_count": 18,
   "id": "6b5ada5b-0cf4-4b57-ae5a-13c48f7a0316",
   "metadata": {},
   "outputs": [],
   "source": [
    "# Filter the to keep only movies released in the 1990s\n",
    "# Start by filtering out movies that were released before 1990\n",
    "subset = netflix_subset[(netflix_subset[\"release_year\"] >= 1990)]"
   ]
  },
  {
   "cell_type": "code",
   "execution_count": 19,
   "id": "b387c046-47eb-422a-8446-3dae3a927f3b",
   "metadata": {},
   "outputs": [],
   "source": [
    "# And then do the same to filter out movies released on or after 2000\n",
    "movies_1990s = subset[(subset[\"release_year\"] < 2000)]"
   ]
  },
  {
   "cell_type": "code",
   "execution_count": 20,
   "id": "4a8bf076-49b0-45c4-af9a-e9c1faf563ad",
   "metadata": {},
   "outputs": [],
   "source": [
    "# Another way to do this step is to use the & operator which allows you to do this type of filtering in one step\n",
    "# movies_1990s = netflix_subset[(netflix_subset[\"release_year\"] >= 1990) & (netflix_subset[\"release_year\"] < 2000)]"
   ]
  },
  {
   "cell_type": "code",
   "execution_count": 26,
   "id": "e9e2db6d-f106-45c4-ae45-1d372aa9d9f0",
   "metadata": {},
   "outputs": [],
   "source": [
    "duration = 100"
   ]
  },
  {
   "cell_type": "code",
   "execution_count": 25,
   "id": "1db7b3f2-c810-4d73-b2d4-82d57c7d36b5",
   "metadata": {},
   "outputs": [],
   "source": [
    "# Filter the data again to keep only the Action movies\n",
    "action_movies_1990s = movies_1990s[movies_1990s[\"genre\"] == \"Action\"]"
   ]
  },
  {
   "cell_type": "code",
   "execution_count": 21,
   "id": "eb07f30f-0f1d-4d63-a408-0f964c5ea816",
   "metadata": {},
   "outputs": [
    {
     "data": {
      "image/png": "[encoded data removed]",
      "text/plain": [
       "<Figure size 640x480 with 1 Axes>"
      ]
     },
     "metadata": {},
     "output_type": "display_data"
    }
   ],
   "source": [
    "# Visualize the duration column of your filtered data to see the distribution of movie durations\n",
    "# See which bar is the highest and save the duration value, this doesn't need to be exact!\n",
    "plt.hist(movies_1990s[\"duration\"])\n",
    "plt.title('Distribution of Movie Durations in the 1990s')\n",
    "plt.xlabel('Duration (minutes)')\n",
    "plt.ylabel('Number of Movies')\n",
    "plt.show()"
   ]
  },
  {
   "cell_type": "code",
   "execution_count": 24,
   "id": "552108d0-fc24-49e1-bbe9-bf84ea8a1c4a",
   "metadata": {},
   "outputs": [
    {
     "name": "stdout",
     "output_type": "stream",
     "text": [
      "8\n"
     ]
    }
   ],
   "source": [
    "# Use a for loop and a counter to count how many short action movies there were in the 1990s\n",
    "# Start the counter\n",
    "short_movie_count = 0\n",
    "\n",
    "# Iterate over the labels and rows of the DataFrame and check if the duration is less than 90, if it is, add 1 to the counter, if it isn't, the counter should remain the same\n",
    "for label, row in action_movies_1990s.iterrows() :\n",
    "    if row[\"duration\"] < 90 :\n",
    "        short_movie_count = short_movie_count + 1\n",
    "    else:\n",
    "        short_movie_count = short_movie_count\n",
    "print(short_movie_count)\n"
   ]
  },
  {
   "cell_type": "code",
   "execution_count": null,
   "id": "b3941929-deeb-49bd-9555-b70a8147d96d",
   "metadata": {},
   "outputs": [],
   "source": [
    "# A quicker way of counting values in a column is to use .sum() on the desired column\n",
    "# (action_movies_1990s[\"duration\"] < 90).sum()"
   ]
  }
 ],
 "metadata": {
  "kernelspec": {
   "display_name": "Python 3 (ipykernel)",
   "language": "python",
   "name": "python3"
  },
  "language_info": {
   "codemirror_mode": {
    "name": "ipython",
    "version": 3
   },
   "file_extension": ".py",
   "mimetype": "text/x-python",
   "name": "python",
   "nbconvert_exporter": "python",
   "pygments_lexer": "ipython3",
   "version": "3.11.7"
  }
 },
 "nbformat": 4,
 "nbformat_minor": 5
}
